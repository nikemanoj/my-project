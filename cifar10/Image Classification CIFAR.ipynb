{
 "cells": [
  {
   "cell_type": "code",
   "execution_count": 1,
   "metadata": {
    "executionInfo": {
     "elapsed": 3766,
     "status": "ok",
     "timestamp": 1658763758120,
     "user": {
      "displayName": "Faculty ITVEDANT",
      "userId": "00597491389009726246"
     },
     "user_tz": -330
    },
    "id": "dmhOSjvhdFNR"
   },
   "outputs": [],
   "source": [
    "# imports\n",
    "import numpy as np\n",
    "import pandas as pd\n",
    "import matplotlib.pyplot as plt\n",
    "\n",
    "from tensorflow.keras.models import Sequential\n",
    "from tensorflow.keras.layers import Dense, Flatten\n",
    "from sklearn.metrics import classification_report"
   ]
  },
  {
   "cell_type": "code",
   "execution_count": 2,
   "metadata": {
    "executionInfo": {
     "elapsed": 42,
     "status": "ok",
     "timestamp": 1658763758129,
     "user": {
      "displayName": "Faculty ITVEDANT",
      "userId": "00597491389009726246"
     },
     "user_tz": -330
    },
    "id": "XthCXY-YdFNc"
   },
   "outputs": [],
   "source": [
    "from tensorflow.keras.datasets import cifar10"
   ]
  },
  {
   "cell_type": "code",
   "execution_count": 3,
   "metadata": {
    "colab": {
     "base_uri": "https://localhost:8080/"
    },
    "executionInfo": {
     "elapsed": 6923,
     "status": "ok",
     "timestamp": 1658763765013,
     "user": {
      "displayName": "Faculty ITVEDANT",
      "userId": "00597491389009726246"
     },
     "user_tz": -330
    },
    "id": "EFmlnGFwdFNe",
    "outputId": "cc891abd-cc27-4a44-8287-6f6989f07793"
   },
   "outputs": [
    {
     "name": "stdout",
     "output_type": "stream",
     "text": [
      "Downloading data from https://www.cs.toronto.edu/~kriz/cifar-10-python.tar.gz\n",
      "170500096/170498071 [==============================] - 2s 0us/step\n",
      "170508288/170498071 [==============================] - 2s 0us/step\n"
     ]
    }
   ],
   "source": [
    "(train_images, train_labels), (test_images, test_labels) = cifar10.load_data()"
   ]
  },
  {
   "cell_type": "code",
   "execution_count": 4,
   "metadata": {
    "colab": {
     "base_uri": "https://localhost:8080/"
    },
    "executionInfo": {
     "elapsed": 35,
     "status": "ok",
     "timestamp": 1658763765020,
     "user": {
      "displayName": "Faculty ITVEDANT",
      "userId": "00597491389009726246"
     },
     "user_tz": -330
    },
    "id": "3PzsOkcCdFNg",
    "outputId": "c4434e0e-94eb-4a9e-e83d-9b4e592c7fd4"
   },
   "outputs": [
    {
     "data": {
      "text/plain": [
       "(50000, 32, 32, 3)"
      ]
     },
     "execution_count": 4,
     "metadata": {},
     "output_type": "execute_result"
    }
   ],
   "source": [
    "train_images.shape"
   ]
  },
  {
   "cell_type": "code",
   "execution_count": 5,
   "metadata": {
    "colab": {
     "base_uri": "https://localhost:8080/"
    },
    "executionInfo": {
     "elapsed": 31,
     "status": "ok",
     "timestamp": 1658763765022,
     "user": {
      "displayName": "Faculty ITVEDANT",
      "userId": "00597491389009726246"
     },
     "user_tz": -330
    },
    "id": "gECjBGW7dFNk",
    "outputId": "b5212f27-721e-4a92-93cb-aca62e1ccf13"
   },
   "outputs": [
    {
     "data": {
      "text/plain": [
       "(10000, 32, 32, 3)"
      ]
     },
     "execution_count": 5,
     "metadata": {},
     "output_type": "execute_result"
    }
   ],
   "source": [
    "test_images.shape"
   ]
  },
  {
   "cell_type": "code",
   "execution_count": 6,
   "metadata": {
    "colab": {
     "base_uri": "https://localhost:8080/"
    },
    "executionInfo": {
     "elapsed": 33,
     "status": "ok",
     "timestamp": 1658763765028,
     "user": {
      "displayName": "Faculty ITVEDANT",
      "userId": "00597491389009726246"
     },
     "user_tz": -330
    },
    "id": "TSmGjXI6dFNm",
    "outputId": "9f295bbd-4b51-4a17-8045-260b4498e929"
   },
   "outputs": [
    {
     "data": {
      "text/plain": [
       "array([0, 1, 2, 3, 4, 5, 6, 7, 8, 9], dtype=uint8)"
      ]
     },
     "execution_count": 6,
     "metadata": {},
     "output_type": "execute_result"
    }
   ],
   "source": [
    "np.unique(train_labels)"
   ]
  },
  {
   "cell_type": "code",
   "execution_count": 7,
   "metadata": {
    "colab": {
     "base_uri": "https://localhost:8080/",
     "height": 105
    },
    "executionInfo": {
     "elapsed": 29,
     "status": "ok",
     "timestamp": 1658763765029,
     "user": {
      "displayName": "Faculty ITVEDANT",
      "userId": "00597491389009726246"
     },
     "user_tz": -330
    },
    "id": "i6GPrEZbdFNp",
    "outputId": "b68ece8c-d345-4b2d-b4db-6beedf0f832c"
   },
   "outputs": [
    {
     "data": {
      "image/png": "[encoded data removed]",
      "text/plain": [
       "<Figure size 72x72 with 1 Axes>"
      ]
     },
     "metadata": {
      "needs_background": "light"
     },
     "output_type": "display_data"
    }
   ],
   "source": [
    "plt.figure(figsize=(1,1))\n",
    "plt.imshow(train_images[7])\n",
    "plt.show()"
   ]
  },
  {
   "cell_type": "code",
   "execution_count": 8,
   "metadata": {
    "colab": {
     "base_uri": "https://localhost:8080/"
    },
    "executionInfo": {
     "elapsed": 28,
     "status": "ok",
     "timestamp": 1658763765031,
     "user": {
      "displayName": "Faculty ITVEDANT",
      "userId": "00597491389009726246"
     },
     "user_tz": -330
    },
    "id": "0PHPO9OFjeK3",
    "outputId": "573a4dd1-e2e9-4b10-a3e5-4e8aebd48807"
   },
   "outputs": [
    {
     "data": {
      "text/plain": [
       "array([7], dtype=uint8)"
      ]
     },
     "execution_count": 8,
     "metadata": {},
     "output_type": "execute_result"
    }
   ],
   "source": [
    "train_labels[7]"
   ]
  },
  {
   "cell_type": "code",
   "execution_count": 9,
   "metadata": {
    "executionInfo": {
     "elapsed": 626,
     "status": "ok",
     "timestamp": 1658763765633,
     "user": {
      "displayName": "Faculty ITVEDANT",
      "userId": "00597491389009726246"
     },
     "user_tz": -330
    },
    "id": "OwAjm43sdFNs"
   },
   "outputs": [],
   "source": [
    "# normalize\n",
    "train_images = train_images.astype('float32') / 255\n",
    "test_images = test_images.astype('float32') / 255"
   ]
  },
  {
   "cell_type": "code",
   "execution_count": 10,
   "metadata": {
    "colab": {
     "base_uri": "https://localhost:8080/"
    },
    "executionInfo": {
     "elapsed": 530,
     "status": "ok",
     "timestamp": 1658763766159,
     "user": {
      "displayName": "Faculty ITVEDANT",
      "userId": "00597491389009726246"
     },
     "user_tz": -330
    },
    "id": "c62YpMBcdFNw",
    "outputId": "2bdf24dc-c095-4240-a26d-27c1f7fcee1b"
   },
   "outputs": [
    {
     "name": "stdout",
     "output_type": "stream",
     "text": [
      "Model: \"sequential\"\n",
      "_________________________________________________________________\n",
      " Layer (type)                Output Shape              Param #   \n",
      "=================================================================\n",
      " flatten (Flatten)           (None, 3072)              0         \n",
      "                                                                 \n",
      " dense (Dense)               (None, 32)                98336     \n",
      "                                                                 \n",
      " dense_1 (Dense)             (None, 10)                330       \n",
      "                                                                 \n",
      "=================================================================\n",
      "Total params: 98,666\n",
      "Trainable params: 98,666\n",
      "Non-trainable params: 0\n",
      "_________________________________________________________________\n"
     ]
    }
   ],
   "source": [
    "model = Sequential()\n",
    "model.add(Flatten(input_shape=(32,32,3)))\n",
    "model.add(Dense(32, activation=\"relu\"))\n",
    "model.add(Dense(10, activation='softmax'))\n",
    "model.summary()"
   ]
  },
  {
   "cell_type": "code",
   "execution_count": 11,
   "metadata": {
    "colab": {
     "base_uri": "https://localhost:8080/"
    },
    "executionInfo": {
     "elapsed": 14534,
     "status": "ok",
     "timestamp": 1658763780689,
     "user": {
      "displayName": "Faculty ITVEDANT",
      "userId": "00597491389009726246"
     },
     "user_tz": -330
    },
    "id": "IZD4lnaddFN1",
    "outputId": "5eea385c-fbf8-4a29-e853-45f95c73f8af"
   },
   "outputs": [
    {
     "name": "stdout",
     "output_type": "stream",
     "text": [
      "Epoch 1/3\n",
      "782/782 [==============================] - 7s 7ms/step - loss: 2.1443\n",
      "Epoch 2/3\n",
      "782/782 [==============================] - 3s 4ms/step - loss: 2.0329\n",
      "Epoch 3/3\n",
      "782/782 [==============================] - 3s 4ms/step - loss: 1.9981\n"
     ]
    },
    {
     "data": {
      "text/plain": [
       "<keras.callbacks.History at 0x7fd5c7bdc050>"
      ]
     },
     "execution_count": 11,
     "metadata": {},
     "output_type": "execute_result"
    }
   ],
   "source": [
    "model.compile(optimizer='adam', loss='sparse_categorical_crossentropy')\n",
    "model.fit(train_images, train_labels, epochs=3, batch_size=64)"
   ]
  },
  {
   "cell_type": "code",
   "execution_count": 12,
   "metadata": {
    "executionInfo": {
     "elapsed": 659,
     "status": "ok",
     "timestamp": 1658763781325,
     "user": {
      "displayName": "Faculty ITVEDANT",
      "userId": "00597491389009726246"
     },
     "user_tz": -330
    },
    "id": "ailq_dDfdFN4"
   },
   "outputs": [],
   "source": [
    "predicted_labels = model.predict(test_images)\n",
    "predicted_labels = np.argmax(predicted_labels,axis=1)"
   ]
  },
  {
   "cell_type": "code",
   "execution_count": 13,
   "metadata": {
    "colab": {
     "base_uri": "https://localhost:8080/"
    },
    "executionInfo": {
     "elapsed": 6,
     "status": "ok",
     "timestamp": 1658763781326,
     "user": {
      "displayName": "Faculty ITVEDANT",
      "userId": "00597491389009726246"
     },
     "user_tz": -330
    },
    "id": "myM-2v9fdFN5",
    "outputId": "6a8fc1b7-65dc-4d23-f5d6-9bab970a1356"
   },
   "outputs": [
    {
     "name": "stdout",
     "output_type": "stream",
     "text": [
      "              precision    recall  f1-score   support\n",
      "\n",
      "           0       0.27      0.14      0.18      1000\n",
      "           1       0.28      0.49      0.36      1000\n",
      "           2       0.00      0.00      0.00      1000\n",
      "           3       0.18      0.13      0.15      1000\n",
      "           4       0.25      0.11      0.16      1000\n",
      "           5       0.00      0.00      0.00      1000\n",
      "           6       0.25      0.68      0.37      1000\n",
      "           7       0.21      0.36      0.26      1000\n",
      "           8       0.31      0.43      0.36      1000\n",
      "           9       0.19      0.13      0.15      1000\n",
      "\n",
      "    accuracy                           0.25     10000\n",
      "   macro avg       0.19      0.25      0.20     10000\n",
      "weighted avg       0.19      0.25      0.20     10000\n",
      "\n"
     ]
    },
    {
     "name": "stderr",
     "output_type": "stream",
     "text": [
      "/usr/local/lib/python3.7/dist-packages/sklearn/metrics/_classification.py:1318: UndefinedMetricWarning: Precision and F-score are ill-defined and being set to 0.0 in labels with no predicted samples. Use `zero_division` parameter to control this behavior.\n",
      "  _warn_prf(average, modifier, msg_start, len(result))\n",
      "/usr/local/lib/python3.7/dist-packages/sklearn/metrics/_classification.py:1318: UndefinedMetricWarning: Precision and F-score are ill-defined and being set to 0.0 in labels with no predicted samples. Use `zero_division` parameter to control this behavior.\n",
      "  _warn_prf(average, modifier, msg_start, len(result))\n",
      "/usr/local/lib/python3.7/dist-packages/sklearn/metrics/_classification.py:1318: UndefinedMetricWarning: Precision and F-score are ill-defined and being set to 0.0 in labels with no predicted samples. Use `zero_division` parameter to control this behavior.\n",
      "  _warn_prf(average, modifier, msg_start, len(result))\n"
     ]
    }
   ],
   "source": [
    "print(classification_report(test_labels,predicted_labels))"
   ]
  },
  {
   "cell_type": "code",
   "execution_count": 14,
   "metadata": {
    "executionInfo": {
     "elapsed": 5,
     "status": "ok",
     "timestamp": 1658763870309,
     "user": {
      "displayName": "Faculty ITVEDANT",
      "userId": "00597491389009726246"
     },
     "user_tz": -330
    },
    "id": "oQ8h8hFqB9ul"
   },
   "outputs": [],
   "source": [
    "from tensorflow.keras.layers import Conv2D, MaxPooling2D, AveragePooling2D"
   ]
  },
  {
   "cell_type": "code",
   "execution_count": 18,
   "metadata": {
    "executionInfo": {
     "elapsed": 367,
     "status": "ok",
     "timestamp": 1658764204216,
     "user": {
      "displayName": "Faculty ITVEDANT",
      "userId": "00597491389009726246"
     },
     "user_tz": -330
    },
    "id": "Oqvg_NBqlAju"
   },
   "outputs": [],
   "source": [
    "cnn_model = Sequential()\n",
    "cnn_model.add(Conv2D(32, (4,4), input_shape=(32,32,3),activation='relu'))\n",
    "cnn_model.add(MaxPooling2D((2,2)))\n",
    "cnn_model.add(Conv2D(16, (2,2), activation='relu'))\n",
    "cnn_model.add(MaxPooling2D((2,2)))\n",
    "cnn_model.add(Flatten())\n",
    "cnn_model.add(Dense(10, activation='softmax'))"
   ]
  },
  {
   "cell_type": "code",
   "execution_count": 19,
   "metadata": {
    "colab": {
     "base_uri": "https://localhost:8080/"
    },
    "executionInfo": {
     "elapsed": 194320,
     "status": "ok",
     "timestamp": 1658764401019,
     "user": {
      "displayName": "Faculty ITVEDANT",
      "userId": "00597491389009726246"
     },
     "user_tz": -330
    },
    "id": "ZXfUeF53Ch6V",
    "outputId": "51b10c39-5e81-4c82-a584-f81a5c4dd099"
   },
   "outputs": [
    {
     "name": "stdout",
     "output_type": "stream",
     "text": [
      "Epoch 1/5\n",
      "782/782 [==============================] - 38s 48ms/step - loss: 1.7046\n",
      "Epoch 2/5\n",
      "782/782 [==============================] - 38s 49ms/step - loss: 1.3987\n",
      "Epoch 3/5\n",
      "782/782 [==============================] - 40s 51ms/step - loss: 1.3045\n",
      "Epoch 4/5\n",
      "782/782 [==============================] - 38s 49ms/step - loss: 1.2359\n",
      "Epoch 5/5\n",
      "782/782 [==============================] - 39s 50ms/step - loss: 1.1829\n"
     ]
    },
    {
     "data": {
      "text/plain": [
       "<keras.callbacks.History at 0x7fd5c7713710>"
      ]
     },
     "execution_count": 19,
     "metadata": {},
     "output_type": "execute_result"
    }
   ],
   "source": [
    "cnn_model.compile(optimizer='adam', loss='sparse_categorical_crossentropy')\n",
    "cnn_model.fit(train_images, train_labels, epochs=5, batch_size=64)"
   ]
  },
  {
   "cell_type": "code",
   "execution_count": 20,
   "metadata": {
    "executionInfo": {
     "elapsed": 4493,
     "status": "ok",
     "timestamp": 1658764440524,
     "user": {
      "displayName": "Faculty ITVEDANT",
      "userId": "00597491389009726246"
     },
     "user_tz": -330
    },
    "id": "tkRrBpWhEDnr"
   },
   "outputs": [],
   "source": [
    "predicted_labels = cnn_model.predict(test_images)\n",
    "predicted_labels = np.argmax(predicted_labels,axis=1)"
   ]
  },
  {
   "cell_type": "code",
   "execution_count": 21,
   "metadata": {
    "colab": {
     "base_uri": "https://localhost:8080/"
    },
    "executionInfo": {
     "elapsed": 6,
     "status": "ok",
     "timestamp": 1658764443463,
     "user": {
      "displayName": "Faculty ITVEDANT",
      "userId": "00597491389009726246"
     },
     "user_tz": -330
    },
    "id": "_6FIa9G9ELJC",
    "outputId": "33585a82-2832-4090-c346-c3beb5b5f80d"
   },
   "outputs": [
    {
     "name": "stdout",
     "output_type": "stream",
     "text": [
      "              precision    recall  f1-score   support\n",
      "\n",
      "           0       0.58      0.66      0.62      1000\n",
      "           1       0.69      0.74      0.71      1000\n",
      "           2       0.53      0.35      0.42      1000\n",
      "           3       0.48      0.39      0.43      1000\n",
      "           4       0.44      0.65      0.53      1000\n",
      "           5       0.56      0.47      0.51      1000\n",
      "           6       0.69      0.69      0.69      1000\n",
      "           7       0.70      0.62      0.66      1000\n",
      "           8       0.61      0.74      0.67      1000\n",
      "           9       0.69      0.64      0.66      1000\n",
      "\n",
      "    accuracy                           0.59     10000\n",
      "   macro avg       0.60      0.59      0.59     10000\n",
      "weighted avg       0.60      0.59      0.59     10000\n",
      "\n"
     ]
    }
   ],
   "source": [
    "print(classification_report(test_labels,predicted_labels))"
   ]
  },
  {
   "cell_type": "code",
   "execution_count": null,
   "metadata": {
    "id": "kb4CW4LbELtN"
   },
   "outputs": [],
   "source": []
  }
 ],
 "metadata": {
  "colab": {
   "name": "Image Classification CIFAR.ipynb",
   "provenance": []
  },
  "kernelspec": {
   "display_name": "Python 3 (ipykernel)",
   "language": "python",
   "name": "python3"
  },
  "language_info": {
   "codemirror_mode": {
    "name": "ipython",
    "version": 3
   },
   "file_extension": ".py",
   "mimetype": "text/x-python",
   "name": "python",
   "nbconvert_exporter": "python",
   "pygments_lexer": "ipython3",
   "version": "3.9.12"
  }
 },
 "nbformat": 4,
 "nbformat_minor": 0
}
